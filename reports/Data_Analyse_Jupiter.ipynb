{
  "metadata": {
    "kernelspec": {
      "name": "xpython",
      "display_name": "Python 3.13 (XPython)",
      "language": "python"
    },
    "language_info": {
      "file_extension": ".py",
      "mimetype": "text/x-python",
      "name": "python",
      "version": "3.13.1"
    }
  },
  "nbformat_minor": 5,
  "nbformat": 4,
  "cells": [
    {
      "id": "05ff34c1-6a69-4911-b93e-0c998ac85cf0",
      "cell_type": "markdown",
      "source": "# Cleaning and analysis of German company data from Kaggle",
      "metadata": {}
    },
    {
      "id": "7eff1e22-9f86-4d95-9387-021ee7a5447c",
      "cell_type": "markdown",
      "source": "## 1.Introduction \n- This project demonstrates the application of skills in cleaning, preparing, analyzing and visualizing data using Python and its libraries\n- The data source is the website https://www.kaggle.com/\n- Purpose: cleaning and preparation of csv file reading data using the pandas library, performing analysis and visualization using the numpy, matplotlib, seaborn, sklearn libraries",
      "metadata": {}
    },
    {
      "id": "0183288d-6ac5-4196-93b7-970fecdb626d",
      "cell_type": "markdown",
      "source": "## 2. Import Libraries",
      "metadata": {}
    },
    {
      "id": "1dd39587-e4fb-403c-ade4-fd0c89eb3151",
      "cell_type": "code",
      "source": "import pandas as pd\nimport matplotlib.pyplot as plt\nimport seaborn as sns\nfrom sklearn.linear_model import LinearRegression\nfrom sklearn.preprocessing import MinMaxScaler\nimport numpy as np",
      "metadata": {
        "trusted": true
      },
      "outputs": [],
      "execution_count": null
    },
    {
      "id": "c20586a9-52d5-4b4e-8383-e8646fc24510",
      "cell_type": "markdown",
      "source": "## 3. Downloading data",
      "metadata": {}
    },
    {
      "id": "5cb3bcf0-4878-4933-b3fb-57c3194cab91",
      "cell_type": "code",
      "source": "path = '../data/raw/Top_12_German_Companies_Financial_Data.csv'\ndf = pd.read_csv(path)",
      "metadata": {
        "trusted": true
      },
      "outputs": [],
      "execution_count": null
    },
    {
      "id": "ac402d5e-6d9e-403e-961b-82746c5cf236",
      "cell_type": "markdown",
      "source": "## 4.Data cleaning",
      "metadata": {}
    },
    {
      "id": "6c572dee-008a-457e-bebc-56066fb5cf71",
      "cell_type": "code",
      "source": "#check list of general data\n#1. Size of data\nprint('Shape: ', df.shape)",
      "metadata": {
        "trusted": true
      },
      "outputs": [],
      "execution_count": null
    },
    {
      "id": "fae9fd2c-23a0-4393-b15b-1ec1727dd381",
      "cell_type": "code",
      "source": "#2. Names of columns\nprint('Columns: ', df.columns.tolist())",
      "metadata": {
        "trusted": true
      },
      "outputs": [],
      "execution_count": null
    },
    {
      "id": "a6deacbb-9473-4bda-9a00-a6d02bedd9b9",
      "cell_type": "code",
      "source": "#3. Let's see first 10 rows\nprint(df.head(10))",
      "metadata": {
        "trusted": true
      },
      "outputs": [],
      "execution_count": null
    },
    {
      "id": "b52e42f8-380a-4ba9-9360-615f56641d5c",
      "cell_type": "code",
      "source": "#4. And data types\nprint('\\nData types: ')\nprint(df.dtypes)",
      "metadata": {
        "trusted": true
      },
      "outputs": [],
      "execution_count": null
    },
    {
      "id": "74ea89ab-0e30-46e3-ac51-1ef340a0d4b0",
      "cell_type": "code",
      "source": "#5. Final lets prepare for cleaning , let's see a number of missing values\nprint('\\nMissing values per column: ')\nprint(df.isnull().sum())",
      "metadata": {
        "trusted": true
      },
      "outputs": [],
      "execution_count": null
    },
    {
      "id": "f7522616-854e-494e-88f7-85a508153558",
      "cell_type": "code",
      "source": "print('How much duplicated in DataFrame: ',df.duplicated().sum())\nprint('\\nMissing values in DataFrame:\\n ',df.isnull().sum())",
      "metadata": {
        "trusted": true
      },
      "outputs": [],
      "execution_count": null
    },
    {
      "id": "efe853ed-977d-479b-8a6f-f13b1bb9f927",
      "cell_type": "code",
      "source": "#lets see Names of 12 Companies:\nprint('\\nCompanies: ', df['Company'].unique())",
      "metadata": {
        "trusted": true
      },
      "outputs": [],
      "execution_count": null
    },
    {
      "id": "09841800-c1c8-4950-bb00-bfbddeaa76d2",
      "cell_type": "markdown",
      "source": "At this stage, we see that data cleaning is not necessary because there are no missing values ​​or duplicates, all columns have information and the corresponding type, in which the information columns are of type int64 or float64",
      "metadata": {}
    },
    {
      "id": "5e1c404f-2d96-4a5c-a951-42cd01c8aaf8",
      "cell_type": "markdown",
      "source": "## 5.Basic Analyse and visualisation",
      "metadata": {}
    },
    {
      "id": "95a76036-94e4-430e-b75e-be6ee5617f90",
      "cell_type": "code",
      "source": "print('-------Basic Statistic------')\nprint(df.describe())",
      "metadata": {
        "trusted": true
      },
      "outputs": [],
      "execution_count": null
    },
    {
      "id": "796db3cd-7479-4a2f-844c-7499b192f386",
      "cell_type": "markdown",
      "source": "First of all lets see Leaders in Revenue values",
      "metadata": {}
    },
    {
      "id": "bed131c1-c576-4ff2-9912-7d4f893d2ff6",
      "cell_type": "code",
      "source": "plt.figure(figsize=(10,6))\nsns.barplot(data = df ,x='Company', y = 'Revenue', hue = 'Company', palette = 'viridis')\nplt.title('Revenue comparison by company')\nplt.xlabel('Companies')\nplt.ylabel('Revenue (EUR)')\nplt.xticks(rotation=90)\nplt.tight_layout()\nplt.show()",
      "metadata": {
        "trusted": true
      },
      "outputs": [],
      "execution_count": null
    },
    {
      "id": "33848941-20c8-42f8-95b3-e89a3b98e29c",
      "cell_type": "markdown",
      "source": "Now lets analyse Profit comparison by companies",
      "metadata": {}
    },
    {
      "id": "b2c63e1f-e518-4940-981f-7c57b97ae650",
      "cell_type": "code",
      "source": "plt.figure(figsize=(10,6))\nsns.barplot(data=df, x='Company', y = 'Net Income', hue = 'Company', palette='viridis')\nplt.title('Profit comparison by companies')\nplt.xlabel('Companies')\nplt.ylabel('Profit')\nplt.xticks(rotation = 90)\nplt.tight_layout()\nplt.show()",
      "metadata": {
        "trusted": true
      },
      "outputs": [],
      "execution_count": null
    },
    {
      "id": "ee5f7222-18e2-4f98-b007-46c76c8825ef",
      "cell_type": "markdown",
      "source": "Now lets analyse Liabilities comparison by companies",
      "metadata": {}
    },
    {
      "id": "fedc8f91-68a3-4d28-a283-e133e00c0eeb",
      "cell_type": "code",
      "source": "plt.figure(figsize=(10,6))\nsns.barplot(data=df, x='Company', y = 'Liabilities', hue = 'Company', palette='viridis')\nplt.title('Liabilities comparison by companies')\nplt.xlabel('Companies')\nplt.ylabel('Liabilities')\nplt.xticks(rotation = 90)\nplt.tight_layout()\nplt.show()",
      "metadata": {
        "trusted": true
      },
      "outputs": [],
      "execution_count": null
    },
    {
      "id": "1857af43-79ee-4e08-a7d8-f3e03eab3cec",
      "cell_type": "markdown",
      "source": "Now lets analyse Debt to Equity comparison by companies",
      "metadata": {}
    },
    {
      "id": "23e5293e-beb9-45fe-9a14-574697287158",
      "cell_type": "code",
      "source": "plt.figure(figsize=(10,6))\nsns.barplot(data=df, x='Company', y = 'Debt to Equity', hue = 'Company', palette='viridis')\nplt.title('Debt to Equity comparison by companies')\nplt.xlabel('Companies')\nplt.ylabel('Debt to Equity')\nplt.xticks(rotation = 90)\nplt.tight_layout()\nplt.show()",
      "metadata": {
        "trusted": true
      },
      "outputs": [],
      "execution_count": null
    },
    {
      "id": "28fedd6e-46cb-405c-abd9-7d312b66da15",
      "cell_type": "markdown",
      "source": "Now lets analyse Equity comparison by companies",
      "metadata": {}
    },
    {
      "id": "e56b5022-18e5-40b9-87b6-cfe6572d4ca2",
      "cell_type": "code",
      "source": "plt.figure(figsize=(10,6))\nsns.barplot(data=df, x='Company', y = 'Equity', hue = 'Company', palette='viridis')\nplt.title('Equity comparison by companies')\nplt.xlabel('Companies')\nplt.ylabel('Equity')\nplt.xticks(rotation = 90)\nplt.tight_layout()\nplt.show()",
      "metadata": {
        "trusted": true
      },
      "outputs": [],
      "execution_count": null
    },
    {
      "id": "83ff7f9f-82d2-4d71-aa74-fd30456c8815",
      "cell_type": "markdown",
      "source": "lets understand standard correlation between finance values\nAnd take just numerical values",
      "metadata": {}
    },
    {
      "id": "bb034498-0b08-4b4c-ae63-e51c23303e78",
      "cell_type": "code",
      "source": "df_num = df.select_dtypes(include=['int64','float64'])\n\nplt.figure(figsize=(10,6))\nsns.heatmap(df_num.corr(),annot=True, cmap='coolwarm')\nplt.title('Correlation between finance values')\nplt.show()",
      "metadata": {
        "trusted": true
      },
      "outputs": [],
      "execution_count": null
    },
    {
      "id": "84e748a8-5ca0-47ba-914a-b332e91d981d",
      "cell_type": "markdown",
      "source": "The -1 to 1 correlation coefficient measures the strength and direction of the linear relationship between two variables. A value of +1 indicates a perfect positive correlation (an increase in one variable is accompanied by an increase in the other), -1 indicates a perfect negative correlation\n(an increase in one variable is accompanied by a decrease in the other), and values close to 0 indicate no linear relationship.",
      "metadata": {}
    },
    {
      "id": "9bdab2ea-0dec-4c33-a892-efee9239d54c",
      "cell_type": "markdown",
      "source": "## 6.Deep analyse and prediction (Linear Regression), find leader by score (normalization)",
      "metadata": {}
    },
    {
      "id": "1d12c846-43c1-4430-a020-af2db8ade24c",
      "cell_type": "markdown",
      "source": "Top leaders in financial score\nTake a financial columns",
      "metadata": {}
    },
    {
      "id": "1c999fa9-2265-40db-b0ce-64993d8597f5",
      "cell_type": "code",
      "source": "df_unique = df.groupby('Company')[['Revenue','Net Income','Equity','Assets','Liabilities','ROA (%)','ROE (%)','Debt to Equity']].mean().reset_index()\nfin_cols = ['Revenue','Net Income','Equity','Assets','Liabilities','ROA (%)','ROE (%)','Debt to Equity']",
      "metadata": {
        "trusted": true
      },
      "outputs": [],
      "execution_count": null
    },
    {
      "id": "fe4b9d65-57a6-44b9-a0d3-d55a722b1845",
      "cell_type": "markdown",
      "source": "Make a Normalization (this is done so that financial indicators are highly differentiated, and normalization will make it possible to compare them and carry out manipulations to determine positive and negative factors)",
      "metadata": {}
    },
    {
      "id": "ec419544-0ba9-4462-8fab-fff06d838d1a",
      "cell_type": "code",
      "source": "scaler = MinMaxScaler()\ndf_scaled = pd.DataFrame(scaler.fit_transform(df_unique[fin_cols]), columns=fin_cols)",
      "metadata": {
        "trusted": true
      },
      "outputs": [],
      "execution_count": null
    },
    {
      "id": "dcaf123e-45c1-4e53-9c4d-cf0e49b5b171",
      "cell_type": "markdown",
      "source": "Make a score for Companies : Take values like Revenue,Net Income,Equity,Assets,ROA,ROE as positive points and Liabilities and Debt to Equity as Negative",
      "metadata": {}
    },
    {
      "id": "709c623d-ac3a-4926-ad43-14cac8217c8d",
      "cell_type": "code",
      "source": "df_scaled['Score'] = (df_scaled['Revenue']+df_scaled['Net Income']+df_scaled['Equity']+df_scaled['Assets']+\n                      df_scaled['ROE (%)']+df_scaled['ROA (%)'] - df_scaled['Liabilities']-df_scaled['Debt to Equity'])",
      "metadata": {
        "trusted": true
      },
      "outputs": [],
      "execution_count": null
    },
    {
      "id": "fbe254c8-1a39-4c73-8b49-463ad1748ebc",
      "cell_type": "markdown",
      "source": "Add score to original df",
      "metadata": {}
    },
    {
      "id": "b04b0f26-4456-4a2f-a44e-f8d1689c2f49",
      "cell_type": "code",
      "source": "df_unique['Score'] = df_scaled['Score']",
      "metadata": {
        "trusted": true
      },
      "outputs": [],
      "execution_count": null
    },
    {
      "id": "8d867172-d128-436e-a7ef-73e729db31d7",
      "cell_type": "markdown",
      "source": "And show top by sorting with score value",
      "metadata": {}
    },
    {
      "id": "4c06d3f1-59a3-4c6c-a4db-db960bcad01d",
      "cell_type": "code",
      "source": "top_leaders = df_unique.sort_values(by='Score',ascending=False)\nprint('Leaders by score:')\nprint(top_leaders[['Score','Company','Revenue','Net Income','Equity','Assets','Liabilities','ROA (%)','ROE (%)','Debt to Equity']].head(12))",
      "metadata": {
        "trusted": true
      },
      "outputs": [],
      "execution_count": null
    },
    {
      "id": "c598d0c8-a23c-4caf-a45c-e2fe497abecd",
      "cell_type": "markdown",
      "source": "Visualization for leaders",
      "metadata": {}
    },
    {
      "id": "6b266770-7f7a-4970-8a21-2d0638ffd438",
      "cell_type": "code",
      "source": "plt.figure(figsize = (10,7))\nsns.barplot(data=df_unique, x = 'Company', y = 'Score', hue = 'Company', palette = 'viridis')\nplt.xticks(rotation = 90)\nplt.title('Leaders by score')\nplt.xlabel('Company')\nplt.ylabel('Score')\nplt.show()",
      "metadata": {
        "trusted": true
      },
      "outputs": [],
      "execution_count": null
    },
    {
      "id": "2c908c25-688b-4947-b49a-04e3d907cfae",
      "cell_type": "markdown",
      "source": "Try to show prediction for Revenue in next year for Companies (Linear Regression)",
      "metadata": {}
    },
    {
      "id": "85958cd0-f5fc-4dc8-819f-2c1bbad4a5aa",
      "cell_type": "markdown",
      "source": "Lets change column period to year from DD/MM/YYYY to YYYY",
      "metadata": {}
    },
    {
      "id": "b1f13cf9-9198-4ca3-b3a1-1c592d352a6f",
      "cell_type": "code",
      "source": "df['Year'] = pd.to_datetime(df['Period']).dt.year",
      "metadata": {
        "trusted": true
      },
      "outputs": [],
      "execution_count": null
    },
    {
      "id": "328f1b91-e22f-4194-9b63-e9b9fc7e3fff",
      "cell_type": "markdown",
      "source": "Create list for prediction",
      "metadata": {}
    },
    {
      "id": "fdaf2ed7-2058-4a5d-bd11-f76faa26b04f",
      "cell_type": "code",
      "source": "prediction = []",
      "metadata": {
        "trusted": true
      },
      "outputs": [],
      "execution_count": null
    },
    {
      "id": "090a41a1-0b30-49b7-97ee-71884273de06",
      "cell_type": "markdown",
      "source": "And with model as Linear regression lets predict a values",
      "metadata": {}
    },
    {
      "id": "0004e9a0-fc13-4d7d-abb6-de042c420c46",
      "cell_type": "code",
      "source": "for company in df['Company'].unique():\n    company_df = df[df['Company']==company].sort_values('Year')\n    X = company_df['Year'].values.reshape(-1,1)\n    y = company_df['Revenue'].values\n    #model creating\n    model = LinearRegression()\n    model.fit(X,y)\n    next_year = np.array([[X.max() + 1]])\n    pred = model.predict(next_year)[0]\n    prediction.append({'Company': company,'Predicted_Revenue_next_year':pred})\n\npred_df = pd.DataFrame(prediction).sort_values(by='Predicted_Revenue_next_year', ascending=False)\nprint(pred_df.head(12))",
      "metadata": {
        "trusted": true
      },
      "outputs": [],
      "execution_count": null
    },
    {
      "id": "e10a6a2a-5188-49b2-bea7-9fa28b6861cd",
      "cell_type": "markdown",
      "source": "Show a prediction for each company with line plot",
      "metadata": {}
    },
    {
      "id": "8f495edb-266c-4b14-a2ed-309945f4ee3f",
      "cell_type": "code",
      "source": "plt.figure(figsize=(15,6))\ncompanies = df['Company'].unique()\ncolors = sns.color_palette('tab10', n_colors=len(companies))\n\nfor company in companies:\n    numeric_cols = ['Revenue', 'Net Income', 'Liabilities', 'Assets', 'Equity', 'ROA (%)', 'ROE (%)', 'Debt to Equity']\n    company_df = df[df['Company'] == company].groupby('Year')[numeric_cols].mean().reset_index().sort_values('Year')\n    plt.plot(company_df['Year'], company_df['Revenue'], marker='o', label=company)\n    next_year = company_df['Year'].max() + 1\n    pred = pred_df.loc[pred_df['Company'] == company, 'Predicted_Revenue_next_year'].values[0]\n    plt.scatter(next_year, pred, marker='X', s=100)\n\nplt.xlabel('Year')\nplt.ylabel('Revenue')\nplt.title('Revenue and predict for next year')\n\nplt.grid(True, axis='y', linestyle='--', alpha=0.6, color='gray')\nplt.tight_layout()\nplt.legend(bbox_to_anchor=(0.1, 0.51))\nplt.show()",
      "metadata": {
        "trusted": true
      },
      "outputs": [],
      "execution_count": null
    },
    {
      "id": "01cd1e2b-595e-4e3a-8711-94f0743807af",
      "cell_type": "markdown",
      "source": "Try to show prediction for Net Income in next year for Companies (Linear Regression) - the same method\njust change column from Revenue to Net Income (algorithm is the same)",
      "metadata": {}
    },
    {
      "id": "9a59169b-d6ab-4fc6-b892-40c239e21ae5",
      "cell_type": "code",
      "source": "prediction = []\nfor company in df['Company'].unique():\n    company_df = df[df['Company']==company].sort_values('Year')\n    X = company_df['Year'].values.reshape(-1,1)\n    y = company_df['Net Income'].values\n    #model creating\n    model = LinearRegression()\n    model.fit(X,y)\n    next_year = np.array([[X.max() + 1]])\n    pred = model.predict(next_year)[0]\n    prediction.append({'Company': company,'Predicted_Net_Income_next_year':pred})\n\npred_df = pd.DataFrame(prediction).sort_values(by='Predicted_Net_Income_next_year', ascending=False)\nprint(pred_df.head(12))\n\n#Show a prediction for each company with line plot\n\nplt.figure(figsize=(15,6))\ncompanies = df['Company'].unique()\ncolors = sns.color_palette('tab10', n_colors=len(companies))\n\nfor company in companies:\n    numeric_cols = ['Revenue', 'Net Income', 'Liabilities', 'Assets', 'Equity', 'ROA (%)', 'ROE (%)', 'Debt to Equity']\n    company_df = df[df['Company'] == company].groupby('Year')[numeric_cols].mean().reset_index().sort_values('Year')\n    plt.plot(company_df['Year'], company_df['Net Income'], marker='o', label=company)\n    next_year = company_df['Year'].max() + 1\n    pred = pred_df.loc[pred_df['Company'] == company, 'Predicted_Net_Income_next_year'].values[0]\n    plt.scatter(next_year, pred, marker='X', s=100)\n\nplt.xlabel('Year')\nplt.ylabel('Net Income')\nplt.title('Revenue and predict for next year')\n\nplt.grid(True, axis='y', linestyle='--', alpha=0.6, color='gray')\nplt.tight_layout()\nplt.legend(bbox_to_anchor=(0.1, 0.51))\nplt.show()",
      "metadata": {
        "trusted": true
      },
      "outputs": [],
      "execution_count": null
    }
  ]
}